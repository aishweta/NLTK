{
 "cells": [
  {
   "cell_type": "code",
   "execution_count": 12,
   "metadata": {
    "collapsed": true
   },
   "outputs": [],
   "source": [
    "import urllib\n",
    "import nltk\n",
    "from bs4 import BeautifulSoup\n",
    "from bs4.element import Comment\n",
    "\n",
    "import re\n",
    "import urllib.request"
   ]
  },
  {
   "cell_type": "code",
   "execution_count": 3,
   "metadata": {
    "collapsed": true
   },
   "outputs": [],
   "source": [
    "user_agent = 'Mozilla/5.0 (Windows; U; Windows NT 5.1; en-US; rv:1.9.0.7) Gecko/2009021910 Firefox/3.0.7'\n",
    "\n",
    "url = \"http://journals.sagepub.com/doi/abs/10.1177/1932296817706375?url_ver=Z39.88-2003&rfr_id=ori:rid:crossref.org&rfr_dat=cr_pub%3dpubmed\"\n",
    "headers={'User-Agent':user_agent,} \n",
    "\n",
    "request=urllib.request.Request(url,None,headers) #The assembled request\n",
    "response = urllib.request.urlopen(request)\n",
    "data = response.read() # The data u need\n",
    "#data"
   ]
  },
  {
   "cell_type": "code",
   "execution_count": 24,
   "metadata": {},
   "outputs": [
    {
     "name": "stdout",
     "output_type": "stream",
     "text": [
      "                   Skip to main content                                                                     MENU      Browse    Resources    Authors    Librarians    Editors    Societies       My Tools    My Alerts    My Saved Searches    My Favorite Journals    My Account      Advanced Search                                       Browse    Resources    Authors    Librarians    Editors    Societies       My Tools    My Alerts    My Saved Searches    My Favorite Journals    My Account      Advanced Search                             Advanced                       Sign in: | Register          SIGN IN      On your first visit to SAGE Journals please set a new password           Email     Password:     Remember me      Forgotten your password?               Set new password  Need Help?    Or    Register for an Account              Account Details    Sign Out                        Sign Out        INSTITUTIONAL ACCESS   Institution       Institutional Access      Shibboleth    Open Athens    Need Help?                                                                              SAGE Video  Streaming video collections      SAGE Knowledge  The ultimate social sciences library      SAGE Research Methods  The ultimate methods library      SAGE Stats  Data on Demand      CQ Library  American political resources             SAGE Journals   About    Privacy Policy    Terms of Use    Contact Us    Help     Browse   Health Sciences    Life Sciences    Materials Science & Engineering    Social Sciences & Humanities    Journals A-Z     Resources   Authors    Editors    Reviewers    Librarians    Researchers    Societies     Opportunities   Advertising    Reprints    Content Sponsorships    Permissions         Copyright © 2018 by  SAGE Publications                       \n"
     ]
    }
   ],
   "source": [
    "def tag_visible(element):\n",
    "    if element.parent.name in ['style', 'script', 'head', 'title', 'meta', '[document]']:\n",
    "        return False\n",
    "    if isinstance(element, Comment):\n",
    "        return False\n",
    "    return True\n",
    "\n",
    "\n",
    "def text_from_html(body):\n",
    "    soup = BeautifulSoup(body, 'html.parser')\n",
    "    texts = soup.findAll(text=True)\n",
    "    visible_texts = filter(tag_visible, texts)  \n",
    "    return u\" \".join(t.strip() for t in visible_texts)\n",
    "\n",
    "html = urllib.request.urlopen('http://journals.sagepub.com/doi/abs/10.1177/1932296817706375?url_ver=Z39.88-2003&rfr_id=ori:rid:crossref.org&rfr_dat=cr_pub%3dpubmed').read()\n",
    "print(text_from_html(html))"
   ]
  },
  {
   "cell_type": "code",
   "execution_count": 25,
   "metadata": {},
   "outputs": [
    {
     "data": {
      "text/plain": [
       "bs4.BeautifulSoup"
      ]
     },
     "execution_count": 25,
     "metadata": {},
     "output_type": "execute_result"
    }
   ],
   "source": [
    "# Create a BeautifulSoup object from the HTML\n",
    "soup = BeautifulSoup(html, \"html5lib\")\n",
    "type(soup)"
   ]
  },
  {
   "cell_type": "code",
   "execution_count": 26,
   "metadata": {},
   "outputs": [
    {
     "name": "stdout",
     "output_type": "stream",
     "text": [
      "http://SK.sagepub.com/video\n",
      "http://sk.sagepub.com/\n",
      "http://methods.sagepub.com\n",
      "http://data.sagepub.com/sagestats/\n",
      "http://library.cqpress.com/index.php\n",
      "http://www.sagepub.com/journals.nav\n",
      "http://www.uk.sagepub.com/rate-reprints.cp\n",
      "http://www.sagepub.com/journalsPermissions.nav\n"
     ]
    }
   ],
   "source": [
    "for link in soup.findAll('a', attrs={'href': re.compile(\"^http://\")}):\n",
    "    print(link.get('href'))"
   ]
  },
  {
   "cell_type": "code",
   "execution_count": 6,
   "metadata": {},
   "outputs": [
    {
     "name": "stdout",
     "output_type": "stream",
     "text": [
      "None\n"
     ]
    }
   ],
   "source": [
    "# Take out the <div> of name and get its value\n",
    "name_box = soup.find('h1', attrs={'class': 'diabetes'})\n",
    "print(name_box)"
   ]
  },
  {
   "cell_type": "code",
   "execution_count": 6,
   "metadata": {},
   "outputs": [
    {
     "data": {
      "text/plain": [
       "<title>SAGE Journals: Your gateway to world-class journal research</title>"
      ]
     },
     "execution_count": 6,
     "metadata": {},
     "output_type": "execute_result"
    }
   ],
   "source": [
    "# Get soup title\n",
    "soup.title"
   ]
  },
  {
   "cell_type": "code",
   "execution_count": 7,
   "metadata": {},
   "outputs": [
    {
     "data": {
      "text/plain": [
       "'SAGE Journals: Your gateway to world-class journal research'"
      ]
     },
     "execution_count": 7,
     "metadata": {},
     "output_type": "execute_result"
    }
   ],
   "source": [
    "# Get soup title as string\n",
    "soup.title.string"
   ]
  },
  {
   "cell_type": "code",
   "execution_count": 8,
   "metadata": {},
   "outputs": [
    {
     "data": {
      "text/plain": [
       "[<a class=\"skiptocontent\" href=\"#\" id=\"skiptocontent\" tabindex=\"1\" title=\"Skip to Content\">Skip to main content</a>,\n",
       " <a href=\"#\">\n",
       " \t\t<img alt=\"Menus\" src=\"/pb-assets/Images/hamburger-menu.svg\" title=\"Menus\"/>\n",
       " \t</a>,\n",
       " <a href=\"/\">\n",
       " \t\t\t<img alt=\"SAGE Journals\" src=\"/pb-assets/Images/SJ-logo.svg\"/>\n",
       " \t\t</a>,\n",
       " <a href=\"#\"><img alt=\"Profile\" src=\"/pb-assets/Images/profile.svg\" title=\"Profile\"/><img alt=\"logged-in\" class=\"loggedInArrow\" src=\"/pb-assets/Images/Arrow-down-red-small.png\"/></a>,\n",
       " <a href=\"#\">\n",
       " \t\t\t<img alt=\"Search\" src=\"/pb-assets/Images/search.svg\" title=\"Search\"/>\n",
       " \t\t</a>,\n",
       " <a href=\"/action/showPublications\" id=\"portalBrowseLink\">Browse</a>,\n",
       " <a class=\"expander\" href=\"#\">Resources</a>,\n",
       " <a href=\"/page/resources/authors\">Authors</a>]"
      ]
     },
     "execution_count": 8,
     "metadata": {},
     "output_type": "execute_result"
    }
   ],
   "source": [
    "# Get hyperlinks from soup and check out first several\n",
    "soup.findAll('a')[:8]"
   ]
  },
  {
   "cell_type": "code",
   "execution_count": 16,
   "metadata": {
    "collapsed": true
   },
   "outputs": [],
   "source": [
    "# Get the text out of the soup and print it\n",
    "text = soup.get_text()\n",
    "#print(text)"
   ]
  },
  {
   "cell_type": "code",
   "execution_count": 17,
   "metadata": {},
   "outputs": [
    {
     "data": {
      "text/plain": [
       "['peter', 'piper', 'pick', 'peck', 'pickled', 'peppers']"
      ]
     },
     "execution_count": 17,
     "metadata": {},
     "output_type": "execute_result"
    }
   ],
   "source": [
    "# tokenize using regular expression\n",
    "\n",
    "# Import regex package\n",
    "import re\n",
    "\n",
    "# Define sentence\n",
    "sentence = 'peter piper pick a peck of pickled peppers'\n",
    "\n",
    "# Define regex\n",
    "ps = 'p\\w+'\n",
    "\n",
    "# Find all words in sentence that match the regex and print them\n",
    "re.findall(ps, sentence)"
   ]
  },
  {
   "cell_type": "code",
   "execution_count": 18,
   "metadata": {},
   "outputs": [
    {
     "data": {
      "text/plain": [
       "['var',\n",
       " 'dataLayer',\n",
       " 'dataLayer',\n",
       " 'dataLayer',\n",
       " 'push',\n",
       " 'site',\n",
       " 'environment',\n",
       " 'live']"
      ]
     },
     "execution_count": 18,
     "metadata": {},
     "output_type": "execute_result"
    }
   ],
   "source": [
    "# Find all words in text  and print several\n",
    "tokens = re.findall('\\w+', text)\n",
    "tokens[:8]"
   ]
  },
  {
   "cell_type": "code",
   "execution_count": 19,
   "metadata": {},
   "outputs": [
    {
     "data": {
      "text/plain": [
       "['var',\n",
       " 'dataLayer',\n",
       " 'dataLayer',\n",
       " 'dataLayer',\n",
       " 'push',\n",
       " 'site',\n",
       " 'environment',\n",
       " 'live']"
      ]
     },
     "execution_count": 19,
     "metadata": {},
     "output_type": "execute_result"
    }
   ],
   "source": [
    "# tokenize using nltk\n",
    "\n",
    "# Import RegexpTokenizer from nltk.tokenize\n",
    "from nltk.tokenize import RegexpTokenizer\n",
    "\n",
    "# Create tokenizer\n",
    "tokenizer = RegexpTokenizer('\\w+')\n",
    "\n",
    "# Create tokens\n",
    "tokens = tokenizer.tokenize(text)\n",
    "tokens[:8]"
   ]
  },
  {
   "cell_type": "code",
   "execution_count": 20,
   "metadata": {},
   "outputs": [
    {
     "data": {
      "text/plain": [
       "['var',\n",
       " 'datalayer',\n",
       " 'datalayer',\n",
       " 'datalayer',\n",
       " 'push',\n",
       " 'site',\n",
       " 'environment',\n",
       " 'live']"
      ]
     },
     "execution_count": 20,
     "metadata": {},
     "output_type": "execute_result"
    }
   ],
   "source": [
    "#all capital letters have been made lower case\n",
    "\n",
    "# Initialize new list\n",
    "words = []\n",
    "\n",
    "# Loop through list tokens and make lower case\n",
    "for word in tokens:\n",
    "    words.append(word.lower())\n",
    "\n",
    "# Print several items from list as sanity check\n",
    "words[:8]"
   ]
  },
  {
   "cell_type": "code",
   "execution_count": 21,
   "metadata": {},
   "outputs": [
    {
     "data": {
      "text/plain": [
       "['i', 'me', 'my', 'myself', 'we']"
      ]
     },
     "execution_count": 21,
     "metadata": {},
     "output_type": "execute_result"
    }
   ],
   "source": [
    "# Remove stop words\n",
    "\n",
    "#to install the stopwords on your system    nltk.download('stopwords')\n",
    "\n",
    "# Import nltk\n",
    "import nltk\n",
    "\n",
    "# Get English stopwords and print some of them\n",
    "sw = nltk.corpus.stopwords.words('english')\n",
    "sw[:5]"
   ]
  },
  {
   "cell_type": "code",
   "execution_count": 22,
   "metadata": {},
   "outputs": [
    {
     "data": {
      "text/plain": [
       "['var', 'datalayer', 'datalayer', 'datalayer', 'push']"
      ]
     },
     "execution_count": 22,
     "metadata": {},
     "output_type": "execute_result"
    }
   ],
   "source": [
    "#You want the list of all words in words that are not in sw then add the to a new list if they are not in sw\n",
    "\n",
    "# Initialize new list\n",
    "words_ns = []\n",
    "\n",
    "# Add to words_ns all words that are in words but not in sw\n",
    "for word in words:\n",
    "    if word not in sw:\n",
    "        words_ns.append(word)\n",
    "\n",
    "# Print several list items as sanity check\n",
    "words_ns[:5]"
   ]
  },
  {
   "cell_type": "code",
   "execution_count": 23,
   "metadata": {},
   "outputs": [
    {
     "data": {
      "image/png": "[encoded data removed]",
      "text/plain": [
       "<matplotlib.figure.Figure at 0xafeeeb8>"
      ]
     },
     "metadata": {},
     "output_type": "display_data"
    }
   ],
   "source": [
    "# most frequent words in the pebmed diabetes type 2\n",
    "\n",
    "# create a frequency distribution object using the function     nltk.FreqDist()\n",
    "\n",
    "#Import datavis libraries\n",
    "import matplotlib.pyplot as plt\n",
    "import seaborn as sns\n",
    "\n",
    "# Figures inline and set visualization style\n",
    "%matplotlib inline\n",
    "sns.set()\n",
    "\n",
    "# Create freq dist and plot\n",
    "freqdist1 = nltk.FreqDist(words_ns)\n",
    "freqdist1.plot(25)"
   ]
  },
  {
   "cell_type": "code",
   "execution_count": null,
   "metadata": {
    "collapsed": true
   },
   "outputs": [],
   "source": []
  },
  {
   "cell_type": "code",
   "execution_count": null,
   "metadata": {
    "collapsed": true
   },
   "outputs": [],
   "source": []
  },
  {
   "cell_type": "code",
   "execution_count": 20,
   "metadata": {
    "collapsed": true
   },
   "outputs": [],
   "source": [
    "###### create own function\n",
    "\n",
    "def plot_word_freq(url):\n",
    "    \"\"\"Takes a url (from Project Gutenberg) and plots a word frequency\n",
    "    distribution\"\"\"\n",
    "    # Make the request and check object type\n",
    "    r = requests.get(url)\n",
    "    # Extract HTML from Response object and print\n",
    "    html = r.text\n",
    "    # Create a BeautifulSoup object from the HTML\n",
    "    soup = BeautifulSoup(html, \"html5lib\")\n",
    "    # Get the text out of the soup and print it\n",
    "    text = soup.get_text()\n",
    "    # Create tokenizer\n",
    "    tokenizer = RegexpTokenizer('\\w+')\n",
    "    # Create tokens\n",
    "    tokens = tokenizer.tokenize(text)\n",
    "    # Initialize new list\n",
    "    words = []\n",
    "    # Loop through list tokens and make lower case\n",
    "    for word in tokens:\n",
    "        words.append(word.lower())\n",
    "    # Get English stopwords and print some of them\n",
    "    sw = nltk.corpus.stopwords.words('english')\n",
    "    # Initialize new list\n",
    "    words_ns = []\n",
    "    # Add to words_ns all words that are in words but not in sw\n",
    "    for word in words:\n",
    "        if word not in sw:\n",
    "            words_ns.append(word)\n",
    "    # Create freq dist and plot\n",
    "    freqdist1 = nltk.FreqDist(words_ns)\n",
    "    freqdist1.plot(25)"
   ]
  },
  {
   "cell_type": "code",
   "execution_count": 21,
   "metadata": {},
   "outputs": [
    {
     "ename": "NameError",
     "evalue": "name 'requests' is not defined",
     "output_type": "error",
     "traceback": [
      "\u001b[1;31m---------------------------------------------------------------------------\u001b[0m",
      "\u001b[1;31mNameError\u001b[0m                                 Traceback (most recent call last)",
      "\u001b[1;32m<ipython-input-21-fc7a07c518c6>\u001b[0m in \u001b[0;36m<module>\u001b[1;34m()\u001b[0m\n\u001b[1;32m----> 1\u001b[1;33m \u001b[0mplot_word_freq\u001b[0m\u001b[1;33m(\u001b[0m\u001b[1;34m'https://omim.org/entry/181500'\u001b[0m\u001b[1;33m)\u001b[0m\u001b[1;33m\u001b[0m\u001b[0m\n\u001b[0m",
      "\u001b[1;32m<ipython-input-20-46cd927a6719>\u001b[0m in \u001b[0;36mplot_word_freq\u001b[1;34m(url)\u001b[0m\n\u001b[0;32m      5\u001b[0m     distribution\"\"\"\n\u001b[0;32m      6\u001b[0m     \u001b[1;31m# Make the request and check object type\u001b[0m\u001b[1;33m\u001b[0m\u001b[1;33m\u001b[0m\u001b[0m\n\u001b[1;32m----> 7\u001b[1;33m     \u001b[0mr\u001b[0m \u001b[1;33m=\u001b[0m \u001b[0mrequests\u001b[0m\u001b[1;33m.\u001b[0m\u001b[0mget\u001b[0m\u001b[1;33m(\u001b[0m\u001b[0murl\u001b[0m\u001b[1;33m)\u001b[0m\u001b[1;33m\u001b[0m\u001b[0m\n\u001b[0m\u001b[0;32m      8\u001b[0m     \u001b[1;31m# Extract HTML from Response object and print\u001b[0m\u001b[1;33m\u001b[0m\u001b[1;33m\u001b[0m\u001b[0m\n\u001b[0;32m      9\u001b[0m     \u001b[0mhtml\u001b[0m \u001b[1;33m=\u001b[0m \u001b[0mr\u001b[0m\u001b[1;33m.\u001b[0m\u001b[0mtext\u001b[0m\u001b[1;33m\u001b[0m\u001b[0m\n",
      "\u001b[1;31mNameError\u001b[0m: name 'requests' is not defined"
     ]
    }
   ],
   "source": [
    "plot_word_freq('https://omim.org/entry/181500')"
   ]
  },
  {
   "cell_type": "code",
   "execution_count": null,
   "metadata": {
    "collapsed": true
   },
   "outputs": [],
   "source": []
  }
 ],
 "metadata": {
  "kernelspec": {
   "display_name": "Python 3",
   "language": "python",
   "name": "python3"
  },
  "language_info": {
   "codemirror_mode": {
    "name": "ipython",
    "version": 3
   },
   "file_extension": ".py",
   "mimetype": "text/x-python",
   "name": "python",
   "nbconvert_exporter": "python",
   "pygments_lexer": "ipython3",
   "version": "3.6.3"
  }
 },
 "nbformat": 4,
 "nbformat_minor": 2
}
